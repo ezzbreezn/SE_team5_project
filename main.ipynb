{
  "cells": [
    {
      "cell_type": "code",
      "execution_count": null,
      "metadata": {
        "colab": {
          "base_uri": "https://localhost:8080/"
        },
        "id": "LA3zlckyY176",
        "outputId": "7bd64bf5-549c-4649-d59a-34488a8b4d9f"
      },
      "outputs": [
        {
          "output_type": "stream",
          "name": "stdout",
          "text": [
            "Populating the interactive namespace from numpy and matplotlib\n"
          ]
        }
      ],
      "source": [
        "%pylab inline\n",
        "import librosa\n",
        "from IPython.display import display,Audio\n",
        "from numpy.fft import fft, ifft"
      ]
    },
    {
      "cell_type": "code",
      "execution_count": null,
      "metadata": {
        "id": "znMU5jx0bQ0x"
      },
      "outputs": [],
      "source": [
        "import sys\n",
        "import numpy as np\n",
        "import soundfile as sf"
      ]
    },
    {
      "cell_type": "markdown",
      "metadata": {
        "id": "ngu_YsfhcuBK"
      },
      "source": [
        "## Analysis\n",
        "Windowing refers to taking a small frame out of a large signal (you are only looking at your signal through a small window of time). The windowing process alters the spectrum of the signal and this effect should be minimized."
      ]
    },
    {
      "cell_type": "markdown",
      "metadata": {
        "id": "S31OG00hdKJr"
      },
      "source": [
        "##Processing\n",
        "\n",
        "Applying a FFT of length N results into N frequency bins starting from 0 up to  with an interval of  where is the sampling rate frequency.\n",
        "## and Synthesis\n",
        "So now we managed to adjust the phase in the frequency domain for our current frame. We need to come back to the time domain. The inverse discrete Fourier transform (IDFT) is performed on each frame spectrum. "
      ]
    },
    {
      "cell_type": "code",
      "execution_count": null,
      "metadata": {
        "id": "vnQCEMR_Zs04"
      },
      "outputs": [],
      "source": [
        "def load_prepare(file_input = \"test_mono.wav\", N=2048):  #N -size of analysis window\n",
        "\n",
        "    #load audio\n",
        "    s, fs = librosa.load(\"test_mono.wav\")\n",
        "\n",
        "    #output input size\n",
        "    L = s.size\n",
        "\n",
        "    # Hop size\n",
        "    H = int(N/4)\n",
        "\n",
        "    #output audio size\n",
        "    Lout = s.size\n",
        "\n",
        "    # signal blocks for processing and output\n",
        "    phi  = np.zeros(N)\n",
        "    out = np.zeros(N, dtype=complex)\n",
        "    sigout = np.zeros(L)\n",
        "\n",
        "    # max input amp, window\n",
        "    win = np.hanning(N)\n",
        "    p = 0\n",
        "\n",
        "    while p < L-(N+H):\n",
        "\n",
        "        # take the spectra of two consecutive windows     \n",
        "        spec1 =  fft(win*s[p:p+N])\n",
        "        spec2 =  fft(win*s[p+H:p+N+H])\n",
        "        # take their phase difference and integrate\n",
        "        phi += (np.angle(spec2) - np.angle(spec1))\n",
        "        \n",
        "        # bring the phase back to between pi and -pi    \n",
        "        phi =  (( -phi + np.pi) % (2.0 * np.pi ) - np.pi) * -1.0       \n",
        "        \n",
        "        out.real, out.imag = np.cos(phi), np.sin(phi)\n",
        "        \n",
        "        # inverse FFT and overlap-add        \n",
        "        sigout[p:p+N] += win*ifft(out*abs(spec2)).real\n",
        "        \n",
        "        p += H\n",
        "\n",
        "    return [fs,s,sigout]"
      ]
    },
    {
      "cell_type": "code",
      "execution_count": null,
      "metadata": {
        "id": "Q26zP-d1apYf"
      },
      "outputs": [],
      "source": [
        "def disp(fs,inp_s,out_s):\n",
        "    print('Input audio')\n",
        "    display(Audio(data=inp_s,rate=fs))\n",
        "    print('Out audio')\n",
        "    display(Audio(data=out_s,rate=fs))"
      ]
    },
    {
      "cell_type": "code",
      "execution_count": null,
      "metadata": {
        "id": "zP26Jjo2bRoy"
      },
      "outputs": [],
      "source": [
        "#fs,inp_s,out_s = load_prepare(file_input = \"test_mono.wav\", N=2048)"
      ]
    },
    {
      "cell_type": "code",
      "execution_count": null,
      "metadata": {
        "id": "yBUEI7Z7mmOd"
      },
      "outputs": [],
      "source": [
        "#disp(fs,inp_s,out_s)"
      ]
    },
    {
      "cell_type": "markdown",
      "metadata": {
        "id": "HuO9VNKLej0K"
      },
      "source": [
        "## Time scaling"
      ]
    },
    {
      "cell_type": "code",
      "execution_count": null,
      "metadata": {
        "id": "tZhn2vcJmH1W"
      },
      "outputs": [],
      "source": [
        "def time_scale(fs,inp_s,scale = 0.5, N=2048):\n",
        "\n",
        "    tscale = float(1/scale)\n",
        "    L = inp_s.size\n",
        "\n",
        "    # Hop size\n",
        "    H = int(N/4)\n",
        "\n",
        "    #output audio size\n",
        "    Lout = int(L/tscale+N)\n",
        "\n",
        "    # signal blocks for processing and output\n",
        "    phi  = np.zeros(N)\n",
        "    out = np.zeros(N, dtype=complex)\n",
        "    sigout = np.zeros(Lout)\n",
        "\n",
        "    # max input amp, window\n",
        "    win = np.hanning(N)\n",
        "    pout = 0\n",
        "    pstretch = 0\n",
        "\n",
        "    while pstretch < L-(N+H):\n",
        "\n",
        "        p = int(pstretch)\n",
        "        \n",
        "        # take the spectra of two consecutive windows     \n",
        "        spec1 =  fft(win*inp_s[p:p+N])\n",
        "        spec2 =  fft(win*inp_s[p+H:p+N+H])\n",
        "        # take their phase difference and integrate\n",
        "        phi += (np.angle(spec2) - np.angle(spec1))\n",
        "        \n",
        "        # bring the phase back to between pi and -pi    \n",
        "        phi =  (( -phi + np.pi) % (2.0 * np.pi ) - np.pi) * -1.0       \n",
        "        \n",
        "        out.real, out.imag = np.cos(phi), np.sin(phi)\n",
        "        \n",
        "        # inverse FFT and overlap-add        \n",
        "        sigout[pout:pout+N] += win*ifft(out*abs(spec2)).real\n",
        "        \n",
        "        pout += H\n",
        "        pstretch += H*tscale\n",
        "\n",
        "    return [fs,inp_s,sigout]"
      ]
    },
    {
      "cell_type": "code",
      "execution_count": null,
      "metadata": {
        "id": "wWe4upNJpah4"
      },
      "outputs": [],
      "source": [
        "if __name__ == '__main__':\n",
        "    [inputFile, outputFile, ratio] = sys.argv[0:]\n",
        "\n",
        "    fs,inp_s,out_s = load_prepare(file_input = \"test_mono.wav\", N=2048)\n",
        "    fs_1, orig_f_1, new_f_1 = time_scale(fs,inp_s,scale = 0.5, N=2048)\n",
        "    sf.write(\"test_momo_r05.wav\", new_f_1, fs_1, subtype='PCM_24')\n",
        "    fs_2, orig_f_2, new_f_2 = time_scale(fs,inp_s,scale = 2, N=2048)\n",
        "    sf.write(\"test_momo_r2.wav\", new_f_2, fs_2, subtype='PCM_24')"
      ]
    },
    {
      "cell_type": "code",
      "execution_count": null,
      "metadata": {
        "id": "kAEWjxKgfByy"
      },
      "outputs": [],
      "source": [
        "#fs_1, orig_f_1, new_f_1 = time_scale(fs,inp_s,scale = 0.5, N=2048)"
      ]
    },
    {
      "cell_type": "code",
      "execution_count": null,
      "metadata": {
        "id": "YS0uy3ThfJhq"
      },
      "outputs": [],
      "source": [
        "#disp(fs_1, orig_f_1, new_f_1)"
      ]
    },
    {
      "cell_type": "code",
      "execution_count": null,
      "metadata": {
        "id": "xwD-PLyKpO8f"
      },
      "outputs": [],
      "source": [
        "#fs_2, orig_f_2, new_f_2 = time_scale(fs,inp_s,scale = 2, N=2048)"
      ]
    },
    {
      "cell_type": "code",
      "execution_count": null,
      "metadata": {
        "id": "Q7SujuODpTkl"
      },
      "outputs": [],
      "source": [
        "#disp(fs_2, orig_f_2, new_f_2)"
      ]
    }
  ],
  "metadata": {
    "colab": {
      "provenance": []
    },
    "kernelspec": {
      "display_name": "Python 3",
      "name": "python3"
    },
    "language_info": {
      "name": "python"
    }
  },
  "nbformat": 4,
  "nbformat_minor": 0
}